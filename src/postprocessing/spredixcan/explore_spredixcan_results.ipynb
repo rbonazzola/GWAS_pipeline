{
 "cells": [
  {
   "cell_type": "code",
   "execution_count": 25,
   "id": "98e5a083-8dc7-44ce-a503-f2a99bd9185d",
   "metadata": {},
   "outputs": [],
   "source": [
    "import shlex\n",
    "import re\n",
    "import os\n",
    "from pprint import pprint\n",
    "import subprocess\n",
    "import pandas as pd\n",
    "import yaml\n",
    "import glob\n",
    "\n",
    "import ipywidgets as widgets\n",
    "from ipywidgets import interact"
   ]
  },
  {
   "cell_type": "code",
   "execution_count": 26,
   "id": "b0459d2d-1b7f-4c66-8dc5-3046cc183ea4",
   "metadata": {},
   "outputs": [
    {
     "data": {
      "application/vnd.jupyter.widget-view+json": {
       "model_id": "472141da6a0545f481ec86958358e410",
       "version_major": 2,
       "version_minor": 0
      },
      "text/plain": [
       "Dropdown(options=('Adipose_Subcutaneous', 'Adipose_Visceral_Omentum', 'Adrenal_Gland', 'Artery_Aorta', 'Artery…"
      ]
     },
     "metadata": {},
     "output_type": "display_data"
    }
   ],
   "source": [
    "tissues = [ x.strip() for x in open(\"/home/rodrigo/01_repos/GWAS_pipeline/data/tissue_list.txt\", \"rt\").readlines()]\n",
    "tissues_w = widgets.Dropdown(options=tissues); display(tissues_w)"
   ]
  },
  {
   "cell_type": "code",
   "execution_count": 100,
   "id": "7d7cc759-2b4b-4ccb-a48e-5fcdbc3742dd",
   "metadata": {},
   "outputs": [],
   "source": [
    "SPREDIXCAN_DIR = \"/home/rodrigo/01_repos/GWAS_pipeline/output/coma/finetuned_mlruns/SPrediXcan/best_gene_expression_associations\"\n",
    "SPREDIXCAN_DIR = \"/home/rodrigo/01_repos/GWAS_pipeline/output/coma/finetuned_mlruns/SPrediXcan/best_intron_associations/\""
   ]
  },
  {
   "cell_type": "code",
   "execution_count": 101,
   "id": "c7e97479-de8d-4f6e-abd5-18003ee8afef",
   "metadata": {},
   "outputs": [
    {
     "name": "stdout",
     "output_type": "stream",
     "text": [
      "/home/rodrigo/01_repos/GWAS_pipeline/output/coma/finetuned_mlruns/SPrediXcan/best_intron_associations//best_*_*__Heart_Atrial_Appendage__GTEx_v8__mashr.csv\n"
     ]
    },
    {
     "data": {
      "text/plain": [
       "440"
      ]
     },
     "execution_count": 101,
     "metadata": {},
     "output_type": "execute_result"
    }
   ],
   "source": [
    "PAT = f\"{SPREDIXCAN_DIR}/best_*_*__{tissues_w.value}__GTEx_v8__mashr.csv\"\n",
    "print(PAT)\n",
    "len(glob.glob(PAT))"
   ]
  },
  {
   "cell_type": "code",
   "execution_count": 102,
   "id": "32587c4d-180c-4e94-b6ce-e37e8663b8b9",
   "metadata": {},
   "outputs": [
    {
     "data": {
      "text/plain": [
       "array(['intron_2_178689896_178694599', 'intron_2_178754009_178758984',\n",
       "       'intron_12_111552430_111552906', 'intron_10_119670177_119672255',\n",
       "       'intron_12_111457359_111464662', 'intron_12_111457359_111470108',\n",
       "       'intron_2_178597681_178600558', 'intron_10_73648879_73653139',\n",
       "       'intron_10_73648879_73649811', 'intron_2_178469785_178478279',\n",
       "       'intron_2_178465931_178478279', 'intron_2_178477213_178478279',\n",
       "       'intron_2_178447586_178450966', 'intron_2_178469785_178477062',\n",
       "       'intron_10_73806811_73807108', 'intron_10_73768007_73768810',\n",
       "       'intron_10_73773815_73775419', 'intron_1_155260659_155262086',\n",
       "       'intron_1_155260659_155261657', 'intron_1_155260450_155262086',\n",
       "       'intron_1_155260450_155260537', 'intron_1_155256791_155257285',\n",
       "       'intron_1_155261734_155262086', 'intron_1_155265954_155266729',\n",
       "       'intron_1_155264774_155265860', 'intron_1_155264774_155268010',\n",
       "       'intron_5_173233209_173233866', 'intron_4_119462979_119488645',\n",
       "       'intron_4_119497903_119499561', 'intron_4_119497903_119512351',\n",
       "       'intron_4_119494523_119512351', 'intron_4_119499836_119512351',\n",
       "       'intron_4_119553746_119560296', 'intron_4_119543845_119550379',\n",
       "       'intron_4_119542634_119552550', 'intron_4_119528789_119543753',\n",
       "       'intron_4_119528789_119550379', 'intron_1_155921628_155921861',\n",
       "       'intron_1_155921527_155921861', 'intron_1_155965760_155966416',\n",
       "       'intron_1_155319688_155320409', 'intron_1_155969300_155983107',\n",
       "       'intron_17_45990075_45991460', 'intron_17_45630158_45636283',\n",
       "       'intron_17_45630158_45645901', 'intron_17_46067667_46082441',\n",
       "       'intron_17_46172232_46223671', 'intron_17_46172232_46192823',\n",
       "       'intron_17_46082542_46094560', 'intron_17_46034285_46038538',\n",
       "       'intron_17_46034282_46038538', 'intron_17_46038686_46039027',\n",
       "       'intron_17_46038686_46039702', 'intron_17_45996664_46014243',\n",
       "       'intron_17_45978440_45982866', 'intron_17_45987095_45991460',\n",
       "       'intron_17_45640455_45645901', 'intron_17_45545676_45584572',\n",
       "       'intron_17_45622041_45629904', 'intron_5_64971812_65018159',\n",
       "       'intron_5_64971812_64977135', 'intron_12_28190641_28305649',\n",
       "       'intron_10_73648879_73649731', 'intron_10_73839601_73842169',\n",
       "       'intron_17_45639520_45645901', 'intron_17_45639520_45640389',\n",
       "       'intron_17_45996664_46010310'], dtype=object)"
      ]
     },
     "execution_count": 102,
     "metadata": {},
     "output_type": "execute_result"
    }
   ],
   "source": [
    "kk = pd.concat([ pd.read_csv(x) for x in glob.glob(PAT) ])\n",
    "kk[kk.pvalue < 1e-10].gene_name.unique()"
   ]
  },
  {
   "cell_type": "code",
   "execution_count": 95,
   "id": "5b3498ef-8321-4162-9a2e-9d672e2ed5a0",
   "metadata": {},
   "outputs": [
    {
     "ename": "NameError",
     "evalue": "name 'config' is not defined",
     "output_type": "error",
     "traceback": [
      "\u001b[0;31m---------------------------------------------------------------------------\u001b[0m",
      "\u001b[0;31mNameError\u001b[0m                                 Traceback (most recent call last)",
      "Input \u001b[0;32mIn [95]\u001b[0m, in \u001b[0;36m<cell line: 1>\u001b[0;34m()\u001b[0m\n\u001b[0;32m----> 1\u001b[0m runs_w \u001b[38;5;241m=\u001b[39m widgets\u001b[38;5;241m.\u001b[39mDropdown(options\u001b[38;5;241m=\u001b[39m\u001b[43mconfig\u001b[49m[\u001b[38;5;124m'\u001b[39m\u001b[38;5;124mruns\u001b[39m\u001b[38;5;124m'\u001b[39m]); display(runs_w)\n",
      "\u001b[0;31mNameError\u001b[0m: name 'config' is not defined"
     ]
    }
   ],
   "source": [
    "runs_w = widgets.Dropdown(options=config['runs']); display(runs_w)"
   ]
  },
  {
   "cell_type": "code",
   "execution_count": 30,
   "id": "99f58fc2-1af8-4f47-8c84-7e2810b4453f",
   "metadata": {},
   "outputs": [
    {
     "ename": "NameError",
     "evalue": "name 'latent_variables' is not defined",
     "output_type": "error",
     "traceback": [
      "\u001b[0;31m---------------------------------------------------------------------------\u001b[0m",
      "\u001b[0;31mNameError\u001b[0m                                 Traceback (most recent call last)",
      "Input \u001b[0;32mIn [30]\u001b[0m, in \u001b[0;36m<cell line: 1>\u001b[0;34m()\u001b[0m\n\u001b[0;32m----> 1\u001b[0m z_w \u001b[38;5;241m=\u001b[39m widgets\u001b[38;5;241m.\u001b[39mDropdown(options\u001b[38;5;241m=\u001b[39m[\u001b[43mlatent_variables\u001b[49m]); display(z_w)\n",
      "\u001b[0;31mNameError\u001b[0m: name 'latent_variables' is not defined"
     ]
    }
   ],
   "source": [
    "z_w = widgets.Dropdown(options=[latent_variables]); display(z_w)"
   ]
  },
  {
   "cell_type": "code",
   "execution_count": null,
   "id": "a00d5016-338f-40df-b138-7772b8ecc97e",
   "metadata": {},
   "outputs": [],
   "source": []
  }
 ],
 "metadata": {
  "kernelspec": {
   "display_name": "Python 3 (ipykernel)",
   "language": "python",
   "name": "python3"
  },
  "language_info": {
   "codemirror_mode": {
    "name": "ipython",
    "version": 3
   },
   "file_extension": ".py",
   "mimetype": "text/x-python",
   "name": "python",
   "nbconvert_exporter": "python",
   "pygments_lexer": "ipython3",
   "version": "3.9.12"
  }
 },
 "nbformat": 4,
 "nbformat_minor": 5
}
